{
 "cells": [
  {
   "cell_type": "markdown",
   "id": "8a744fef",
   "metadata": {},
   "source": [
    "<img src='페이별 그림.png'>"
   ]
  },
  {
   "cell_type": "markdown",
   "id": "0f7e4888",
   "metadata": {},
   "source": [
    "- 모든 페이가 ( 이벤트, 할인, 가입, 혜택, 쿠폰, 적립 )라는 단어가 많이 나옴\n",
    "  - 이를 통해 사람들은 페이, 포인트 어플을 사용하는 이유, 주목하는 이유로 이벤트, 할인, 포인트 적립에 두고 있음을 알 수 있다.\n",
    "- 각 페이간 차이점은 자회사와 관련된 이벤트를 많이 진행한다는 것을 알 수 있다."
   ]
  },
  {
   "cell_type": "markdown",
   "id": "6b7d110b",
   "metadata": {},
   "source": [
    "<img src='lpoint blog word cloud.png'>"
   ]
  },
  {
   "cell_type": "markdown",
   "id": "e7af0f73",
   "metadata": {},
   "source": [
    "- 역시 LPOINT 게시글은 이벤트, 포인트, 적립의 빈도가 가장 높다.\n",
    "- 그리고 당첨, 참여, 할인, 전환, 사용의 단어가 많다.\n",
    "  - 그만큼 혜택, 이벤트와 관련된 고객들의 관심이 높음을 알 수 있음"
   ]
  },
  {
   "cell_type": "markdown",
   "id": "54d03f63",
   "metadata": {},
   "source": [
    "<img src='lpoint 주제별 그림.png'>"
   ]
  },
  {
   "cell_type": "markdown",
   "id": "62ab4806",
   "metadata": {},
   "source": [
    "- LSA를 통해 주제분석\n",
    "  - 1,3,8,10번 주제는 이벤트와 관련된 주제들\n",
    "  - 9번 주제도 이벤트\n",
    "  - 6번 주제는 빅플레저(공연, 뷰티)와 관련된 주제\n",
    "  - 5번 주제는 하이마트(가전)과 관련된 주제\n",
    "  - 0, 2번 주제는 상품권 거래와 관련된 주제\n",
    "  - 4, 7, 11"
   ]
  },
  {
   "cell_type": "markdown",
   "id": "7ee9cc9f",
   "metadata": {},
   "source": [
    "<img src='lpoint 주제별 빈도.png'>"
   ]
  },
  {
   "cell_type": "markdown",
   "id": "1975c1ee",
   "metadata": {},
   "source": [
    "- 1,3,8,10번 주제 순서로 가장 많음\n",
    "  - 1: 포인트 적립 이벤트 관련 게시글\n",
    "  - 3: 설문조사, 포인트 적립 관련 게시글\n",
    "  - 8: 카드 결제 이벤트 관련 게시글\n",
    "  - 10: 포인트 사용, 전환 관련 게시글\n",
    "- 위 주제들이 전체 게시글의 78% 이룸\n",
    "- 이를 통해 엘페이 고객 들은 이벤트, 포인트 사용 관련해서 관심이 많음을 알 수 있다."
   ]
  },
  {
   "cell_type": "markdown",
   "id": "fdaf773d",
   "metadata": {},
   "source": [
    "<img src='lpoint 최빈 주제 그림.png'>"
   ]
  },
  {
   "cell_type": "markdown",
   "id": "185058ab",
   "metadata": {},
   "source": [
    "- 각 주제별 설명\n",
    "  - 워드 클라우드 보여주는 것도 괜찮을 듯?"
   ]
  },
  {
   "cell_type": "markdown",
   "id": "d755063c",
   "metadata": {},
   "source": [
    "- 즉, 페이와 포인트 관련 어플리케이션 경쟁에서 승리하려면 차별화된 이벤트 제공의 중요성!\n",
    "  - 고객들의 해당 어플리케이션 사용 이유가 이벤트, 혜택, 적립에 있기 때문\n",
    "- 고객 개인 맞춤형 이벤트 제공\n",
    "  - 추천 시스템을 통해 고객이 어느 시기에 어느 제품을 선호할 지 예측 가능\n",
    "  - 이것을 예측해 해당 시기에 해당 상품, 서비스의 이벤트, 혜택을 알려주기!\n",
    "    - 어차피 해당 상품, 서비스를 이용하려고 했던 고객의 경우에는 다른 경쟁사를 통해 구입을 하지 않고 엘포인트로 구입 가능\n",
    "      - 서비스(롯데월드, 롯데시네마)와 상품은 다르게 생각하고 이를 모델에 반영해야!\n",
    "- 고객은 보다 싼 가격에 구입(또는 혜택 누림)\n",
    "- 제휴사는 매출 증가\n",
    "- 롯데멤버스는 휴면 고객을 잡고, 고객 유입, 사용량을 늘릴 수 있다."
   ]
  }
 ],
 "metadata": {
  "kernelspec": {
   "display_name": "Python 3 (ipykernel)",
   "language": "python",
   "name": "python3"
  },
  "language_info": {
   "codemirror_mode": {
    "name": "ipython",
    "version": 3
   },
   "file_extension": ".py",
   "mimetype": "text/x-python",
   "name": "python",
   "nbconvert_exporter": "python",
   "pygments_lexer": "ipython3",
   "version": "3.9.12"
  }
 },
 "nbformat": 4,
 "nbformat_minor": 5
}
