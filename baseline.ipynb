{
 "cells": [
  {
   "cell_type": "code",
   "execution_count": 1,
   "id": "f2834599",
   "metadata": {},
   "outputs": [],
   "source": [
    "from glob import glob\n",
    "import pandas as pd"
   ]
  },
  {
   "cell_type": "code",
   "execution_count": 28,
   "id": "d2c88d01",
   "metadata": {},
   "outputs": [],
   "source": [
    "lst_data = glob('./data/*')\n",
    "var_data = ['cust_demo', 'prod_buy', 'service_use', 'prod_cat', 'partner', 'lpay']\n",
    "for name, file in zip(var_data, lst_data):\n",
    "    globals()[name] = pd.read_csv(file)"
   ]
  },
  {
   "cell_type": "code",
   "execution_count": 31,
   "id": "0c16dc2e",
   "metadata": {},
   "outputs": [
    {
     "name": "stdout",
     "output_type": "stream",
     "text": [
      "cust_demo :  (29913, 4)\n",
      "prod_buy :  (4381743, 10)\n",
      "service_use :  (248304, 9)\n",
      "prod_cat :  (1933, 4)\n",
      "partner :  (8808, 4)\n",
      "lpay :  (353184, 7)\n"
     ]
    }
   ],
   "source": [
    "for name in var_data:\n",
    "    print(name, ': ', globals()[name].shape)"
   ]
  },
  {
   "cell_type": "code",
   "execution_count": 32,
   "id": "84b6d1b9",
   "metadata": {},
   "outputs": [
    {
     "name": "stdout",
     "output_type": "stream",
     "text": [
      "cust_demo :  Index(['cust', 'ma_fem_dv', 'ages', 'zon_hlv'], dtype='object')\n",
      "prod_buy :  Index(['cust', 'rct_no', 'chnl_dv', 'cop_c', 'br_c', 'pd_c', 'de_dt', 'de_hr',\n",
      "       'buy_am', 'buy_ct'],\n",
      "      dtype='object')\n",
      "service_use :  Index(['cust', 'rct_no', 'cop_c', 'br_c', 'chnl_dv', 'de_dt', 'vst_dt',\n",
      "       'de_hr', 'buy_am'],\n",
      "      dtype='object')\n",
      "prod_cat :  Index(['pd_c', 'pd_nm', 'clac_hlv_nm', 'clac_mcls_nm'], dtype='object')\n",
      "partner :  Index(['br_c', 'cop_c', 'zon_hlv', 'zon_mcls'], dtype='object')\n",
      "lpay :  Index(['cust', 'rct_no', 'cop_c', 'chnl_dv', 'de_dt', 'de_hr', 'buy_am'], dtype='object')\n"
     ]
    }
   ],
   "source": [
    "for name in var_data:\n",
    "    print(name, ': ', globals()[name].columns)"
   ]
  },
  {
   "cell_type": "code",
   "execution_count": 33,
   "id": "22715ca7",
   "metadata": {},
   "outputs": [
    {
     "data": {
      "text/html": [
       "<div>\n",
       "<style scoped>\n",
       "    .dataframe tbody tr th:only-of-type {\n",
       "        vertical-align: middle;\n",
       "    }\n",
       "\n",
       "    .dataframe tbody tr th {\n",
       "        vertical-align: top;\n",
       "    }\n",
       "\n",
       "    .dataframe thead th {\n",
       "        text-align: right;\n",
       "    }\n",
       "</style>\n",
       "<table border=\"1\" class=\"dataframe\">\n",
       "  <thead>\n",
       "    <tr style=\"text-align: right;\">\n",
       "      <th></th>\n",
       "      <th>cust</th>\n",
       "      <th>ma_fem_dv</th>\n",
       "      <th>ages</th>\n",
       "      <th>zon_hlv</th>\n",
       "    </tr>\n",
       "  </thead>\n",
       "  <tbody>\n",
       "    <tr>\n",
       "      <th>0</th>\n",
       "      <td>M000034966</td>\n",
       "      <td>여성</td>\n",
       "      <td>40대</td>\n",
       "      <td>Z07</td>\n",
       "    </tr>\n",
       "    <tr>\n",
       "      <th>1</th>\n",
       "      <td>M000059535</td>\n",
       "      <td>여성</td>\n",
       "      <td>30대</td>\n",
       "      <td>Z12</td>\n",
       "    </tr>\n",
       "    <tr>\n",
       "      <th>2</th>\n",
       "      <td>M000136117</td>\n",
       "      <td>여성</td>\n",
       "      <td>30대</td>\n",
       "      <td>Z11</td>\n",
       "    </tr>\n",
       "    <tr>\n",
       "      <th>3</th>\n",
       "      <td>M000201112</td>\n",
       "      <td>여성</td>\n",
       "      <td>50대</td>\n",
       "      <td>Z17</td>\n",
       "    </tr>\n",
       "    <tr>\n",
       "      <th>4</th>\n",
       "      <td>M000225114</td>\n",
       "      <td>여성</td>\n",
       "      <td>40대</td>\n",
       "      <td>Z17</td>\n",
       "    </tr>\n",
       "  </tbody>\n",
       "</table>\n",
       "</div>"
      ],
      "text/plain": [
       "         cust ma_fem_dv ages zon_hlv\n",
       "0  M000034966        여성  40대     Z07\n",
       "1  M000059535        여성  30대     Z12\n",
       "2  M000136117        여성  30대     Z11\n",
       "3  M000201112        여성  50대     Z17\n",
       "4  M000225114        여성  40대     Z17"
      ]
     },
     "execution_count": 33,
     "metadata": {},
     "output_type": "execute_result"
    }
   ],
   "source": [
    "cust_demo.head()"
   ]
  },
  {
   "cell_type": "code",
   "execution_count": 34,
   "id": "76107006",
   "metadata": {},
   "outputs": [
    {
     "data": {
      "text/plain": [
       "array(['A01', 'A02', 'A03', 'A04', 'A05', 'A06'], dtype=object)"
      ]
     },
     "execution_count": 34,
     "metadata": {},
     "output_type": "execute_result"
    }
   ],
   "source": [
    "prod_buy.cop_c.unique()"
   ]
  },
  {
   "cell_type": "code",
   "execution_count": 52,
   "id": "b79db978",
   "metadata": {},
   "outputs": [
    {
     "data": {
      "text/html": [
       "<div>\n",
       "<style scoped>\n",
       "    .dataframe tbody tr th:only-of-type {\n",
       "        vertical-align: middle;\n",
       "    }\n",
       "\n",
       "    .dataframe tbody tr th {\n",
       "        vertical-align: top;\n",
       "    }\n",
       "\n",
       "    .dataframe thead th {\n",
       "        text-align: right;\n",
       "    }\n",
       "</style>\n",
       "<table border=\"1\" class=\"dataframe\">\n",
       "  <thead>\n",
       "    <tr style=\"text-align: right;\">\n",
       "      <th></th>\n",
       "      <th>pd_c</th>\n",
       "      <th>pd_nm</th>\n",
       "      <th>clac_hlv_nm</th>\n",
       "      <th>clac_mcls_nm</th>\n",
       "    </tr>\n",
       "  </thead>\n",
       "  <tbody>\n",
       "    <tr>\n",
       "      <th>0</th>\n",
       "      <td>PD0001</td>\n",
       "      <td>소파</td>\n",
       "      <td>가구</td>\n",
       "      <td>거실가구</td>\n",
       "    </tr>\n",
       "    <tr>\n",
       "      <th>1</th>\n",
       "      <td>PD0002</td>\n",
       "      <td>스툴/리빙의자</td>\n",
       "      <td>가구</td>\n",
       "      <td>거실가구</td>\n",
       "    </tr>\n",
       "    <tr>\n",
       "      <th>2</th>\n",
       "      <td>PD0003</td>\n",
       "      <td>탁자</td>\n",
       "      <td>가구</td>\n",
       "      <td>거실가구</td>\n",
       "    </tr>\n",
       "    <tr>\n",
       "      <th>3</th>\n",
       "      <td>PD0004</td>\n",
       "      <td>장식장/진열장</td>\n",
       "      <td>가구</td>\n",
       "      <td>거실가구</td>\n",
       "    </tr>\n",
       "    <tr>\n",
       "      <th>4</th>\n",
       "      <td>PD0005</td>\n",
       "      <td>기타가구</td>\n",
       "      <td>가구</td>\n",
       "      <td>기타가구</td>\n",
       "    </tr>\n",
       "    <tr>\n",
       "      <th>...</th>\n",
       "      <td>...</td>\n",
       "      <td>...</td>\n",
       "      <td>...</td>\n",
       "      <td>...</td>\n",
       "    </tr>\n",
       "    <tr>\n",
       "      <th>1928</th>\n",
       "      <td>PD1929</td>\n",
       "      <td>여성향수</td>\n",
       "      <td>화장품/뷰티케어</td>\n",
       "      <td>향수</td>\n",
       "    </tr>\n",
       "    <tr>\n",
       "      <th>1929</th>\n",
       "      <td>PD1930</td>\n",
       "      <td>남성향수</td>\n",
       "      <td>화장품/뷰티케어</td>\n",
       "      <td>향수</td>\n",
       "    </tr>\n",
       "    <tr>\n",
       "      <th>1930</th>\n",
       "      <td>PD1931</td>\n",
       "      <td>남녀공용향수</td>\n",
       "      <td>화장품/뷰티케어</td>\n",
       "      <td>향수</td>\n",
       "    </tr>\n",
       "    <tr>\n",
       "      <th>1931</th>\n",
       "      <td>PD1932</td>\n",
       "      <td>남성향수세트</td>\n",
       "      <td>화장품/뷰티케어</td>\n",
       "      <td>향수</td>\n",
       "    </tr>\n",
       "    <tr>\n",
       "      <th>1932</th>\n",
       "      <td>PD1933</td>\n",
       "      <td>남녀공용향수세트</td>\n",
       "      <td>화장품/뷰티케어</td>\n",
       "      <td>향수</td>\n",
       "    </tr>\n",
       "  </tbody>\n",
       "</table>\n",
       "<p>1933 rows × 4 columns</p>\n",
       "</div>"
      ],
      "text/plain": [
       "        pd_c     pd_nm clac_hlv_nm clac_mcls_nm\n",
       "0     PD0001        소파          가구         거실가구\n",
       "1     PD0002   스툴/리빙의자          가구         거실가구\n",
       "2     PD0003        탁자          가구         거실가구\n",
       "3     PD0004   장식장/진열장          가구         거실가구\n",
       "4     PD0005      기타가구          가구         기타가구\n",
       "...      ...       ...         ...          ...\n",
       "1928  PD1929      여성향수    화장품/뷰티케어           향수\n",
       "1929  PD1930      남성향수    화장품/뷰티케어           향수\n",
       "1930  PD1931    남녀공용향수    화장품/뷰티케어           향수\n",
       "1931  PD1932    남성향수세트    화장품/뷰티케어           향수\n",
       "1932  PD1933  남녀공용향수세트    화장품/뷰티케어           향수\n",
       "\n",
       "[1933 rows x 4 columns]"
      ]
     },
     "execution_count": 52,
     "metadata": {},
     "output_type": "execute_result"
    }
   ],
   "source": [
    "prod_cat"
   ]
  },
  {
   "cell_type": "code",
   "execution_count": 53,
   "id": "43a021ec",
   "metadata": {},
   "outputs": [
    {
     "name": "stderr",
     "output_type": "stream",
     "text": [
      "warning: LF will be replaced by CRLF in �뜲�씠�꽣 �꽕紐�.ipynb.\n",
      "The file will have its original line endings in your working directory\n"
     ]
    }
   ],
   "source": [
    "!git add \"데이터 설명.ipynb\""
   ]
  },
  {
   "cell_type": "code",
   "execution_count": 54,
   "id": "01c8d412",
   "metadata": {},
   "outputs": [
    {
     "name": "stdout",
     "output_type": "stream",
     "text": [
      "[master c780da9] �뜲�씠�꽣 �꽕紐� �뙆�씪\n",
      " 1 file changed, 27 insertions(+), 2 deletions(-)\n"
     ]
    }
   ],
   "source": [
    "!git commit -m \"데이터 설명 파일\""
   ]
  },
  {
   "cell_type": "code",
   "execution_count": null,
   "id": "d7c1bb2c",
   "metadata": {},
   "outputs": [],
   "source": [
    "!git push origin master"
   ]
  }
 ],
 "metadata": {
  "kernelspec": {
   "display_name": "Python 3 (ipykernel)",
   "language": "python",
   "name": "python3"
  },
  "language_info": {
   "codemirror_mode": {
    "name": "ipython",
    "version": 3
   },
   "file_extension": ".py",
   "mimetype": "text/x-python",
   "name": "python",
   "nbconvert_exporter": "python",
   "pygments_lexer": "ipython3",
   "version": "3.9.7"
  }
 },
 "nbformat": 4,
 "nbformat_minor": 5
}
