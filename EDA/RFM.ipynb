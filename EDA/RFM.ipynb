{
 "cells": [
  {
   "cell_type": "code",
   "execution_count": 1,
   "id": "3b90754d",
   "metadata": {},
   "outputs": [],
   "source": [
    "from glob import glob\n",
    "import pandas as pd\n",
    "from pandas import Series\n",
    "import numpy as np\n",
    "import matplotlib.pyplot as plt\n",
    "from matplotlib import cm\n",
    "import seaborn as sns\n",
    "import matplotlib.font_manager as fm\n",
    "plt.rc('font', family='AppleGothic') # for MAC OS users\n",
    "#plt.rc('font', family=fm.FontProperties(fname=\"c:/Windows/Fonts/malgun.ttf\").get_name()) # for Windows OS user"
   ]
  },
  {
   "cell_type": "code",
   "execution_count": 2,
   "id": "95151d12",
   "metadata": {},
   "outputs": [
    {
     "name": "stderr",
     "output_type": "stream",
     "text": [
      "/var/folders/ty/d0l26xd500q6hk3ryfccwjy00000gn/T/ipykernel_8720/2033872303.py:4: DtypeWarning: Columns (4) have mixed types. Specify dtype option on import or set low_memory=False.\n",
      "  globals()[name] = pd.read_csv(file)\n"
     ]
    }
   ],
   "source": [
    "lst_data = glob('../../3. 에포크_데이터 및 모델 세이브 파일/data/*.csv')\n",
    "var_data = ['cust_demo', 'prod_buy', 'service_use', 'prod_cat', 'partner', 'lpay']\n",
    "for name, file in zip(var_data, lst_data):\n",
    "    globals()[name] = pd.read_csv(file)"
   ]
  },
  {
   "cell_type": "code",
   "execution_count": 4,
   "id": "ed85bad7",
   "metadata": {},
   "outputs": [
    {
     "data": {
      "text/html": [
       "<div>\n",
       "<style scoped>\n",
       "    .dataframe tbody tr th:only-of-type {\n",
       "        vertical-align: middle;\n",
       "    }\n",
       "\n",
       "    .dataframe tbody tr th {\n",
       "        vertical-align: top;\n",
       "    }\n",
       "\n",
       "    .dataframe thead th {\n",
       "        text-align: right;\n",
       "    }\n",
       "</style>\n",
       "<table border=\"1\" class=\"dataframe\">\n",
       "  <thead>\n",
       "    <tr style=\"text-align: right;\">\n",
       "      <th></th>\n",
       "      <th>cust</th>\n",
       "      <th>rct_no</th>\n",
       "      <th>cop_c</th>\n",
       "      <th>br_c</th>\n",
       "      <th>chnl_dv</th>\n",
       "      <th>de_dt</th>\n",
       "      <th>de_hr</th>\n",
       "      <th>buy_am</th>\n",
       "    </tr>\n",
       "  </thead>\n",
       "  <tbody>\n",
       "    <tr>\n",
       "      <th>0</th>\n",
       "      <td>M430112881</td>\n",
       "      <td>A01000001113</td>\n",
       "      <td>A01</td>\n",
       "      <td>A010039</td>\n",
       "      <td>1</td>\n",
       "      <td>20210101</td>\n",
       "      <td>10</td>\n",
       "      <td>15000.0</td>\n",
       "    </tr>\n",
       "    <tr>\n",
       "      <th>1</th>\n",
       "      <td>M646853852</td>\n",
       "      <td>A01000002265</td>\n",
       "      <td>A01</td>\n",
       "      <td>A010025</td>\n",
       "      <td>1</td>\n",
       "      <td>20210101</td>\n",
       "      <td>10</td>\n",
       "      <td>79700.0</td>\n",
       "    </tr>\n",
       "    <tr>\n",
       "      <th>2</th>\n",
       "      <td>M430112881</td>\n",
       "      <td>A01000003148</td>\n",
       "      <td>A01</td>\n",
       "      <td>A010039</td>\n",
       "      <td>1</td>\n",
       "      <td>20210101</td>\n",
       "      <td>10</td>\n",
       "      <td>19000.0</td>\n",
       "    </tr>\n",
       "    <tr>\n",
       "      <th>3</th>\n",
       "      <td>M430112881</td>\n",
       "      <td>A01000003148</td>\n",
       "      <td>A01</td>\n",
       "      <td>A010039</td>\n",
       "      <td>1</td>\n",
       "      <td>20210101</td>\n",
       "      <td>10</td>\n",
       "      <td>19000.0</td>\n",
       "    </tr>\n",
       "    <tr>\n",
       "      <th>4</th>\n",
       "      <td>M430112881</td>\n",
       "      <td>A01000004946</td>\n",
       "      <td>A01</td>\n",
       "      <td>A010039</td>\n",
       "      <td>1</td>\n",
       "      <td>20210101</td>\n",
       "      <td>10</td>\n",
       "      <td>19000.0</td>\n",
       "    </tr>\n",
       "    <tr>\n",
       "      <th>...</th>\n",
       "      <td>...</td>\n",
       "      <td>...</td>\n",
       "      <td>...</td>\n",
       "      <td>...</td>\n",
       "      <td>...</td>\n",
       "      <td>...</td>\n",
       "      <td>...</td>\n",
       "      <td>...</td>\n",
       "    </tr>\n",
       "    <tr>\n",
       "      <th>248299</th>\n",
       "      <td>M058650684</td>\n",
       "      <td>21111614C021426818</td>\n",
       "      <td>C02</td>\n",
       "      <td>C020002</td>\n",
       "      <td>1</td>\n",
       "      <td>20211116</td>\n",
       "      <td>14</td>\n",
       "      <td>2000.0</td>\n",
       "    </tr>\n",
       "    <tr>\n",
       "      <th>248300</th>\n",
       "      <td>M058650684</td>\n",
       "      <td>21111619C023223432</td>\n",
       "      <td>C02</td>\n",
       "      <td>C020002</td>\n",
       "      <td>1</td>\n",
       "      <td>20211116</td>\n",
       "      <td>19</td>\n",
       "      <td>26900.0</td>\n",
       "    </tr>\n",
       "    <tr>\n",
       "      <th>248301</th>\n",
       "      <td>M014154595</td>\n",
       "      <td>21121209C015324520</td>\n",
       "      <td>C01</td>\n",
       "      <td>C010087</td>\n",
       "      <td>2</td>\n",
       "      <td>20211212</td>\n",
       "      <td>9</td>\n",
       "      <td>2000.0</td>\n",
       "    </tr>\n",
       "    <tr>\n",
       "      <th>248302</th>\n",
       "      <td>M510878172</td>\n",
       "      <td>21112719C013369102</td>\n",
       "      <td>C01</td>\n",
       "      <td>C010007</td>\n",
       "      <td>2</td>\n",
       "      <td>20211127</td>\n",
       "      <td>19</td>\n",
       "      <td>6000.0</td>\n",
       "    </tr>\n",
       "    <tr>\n",
       "      <th>248303</th>\n",
       "      <td>M761634870</td>\n",
       "      <td>21122419C013829696</td>\n",
       "      <td>C01</td>\n",
       "      <td>C010014</td>\n",
       "      <td>2</td>\n",
       "      <td>20211224</td>\n",
       "      <td>19</td>\n",
       "      <td>28000.0</td>\n",
       "    </tr>\n",
       "  </tbody>\n",
       "</table>\n",
       "<p>4630047 rows × 8 columns</p>\n",
       "</div>"
      ],
      "text/plain": [
       "              cust              rct_no cop_c     br_c  chnl_dv     de_dt  \\\n",
       "0       M430112881        A01000001113   A01  A010039        1  20210101   \n",
       "1       M646853852        A01000002265   A01  A010025        1  20210101   \n",
       "2       M430112881        A01000003148   A01  A010039        1  20210101   \n",
       "3       M430112881        A01000003148   A01  A010039        1  20210101   \n",
       "4       M430112881        A01000004946   A01  A010039        1  20210101   \n",
       "...            ...                 ...   ...      ...      ...       ...   \n",
       "248299  M058650684  21111614C021426818   C02  C020002        1  20211116   \n",
       "248300  M058650684  21111619C023223432   C02  C020002        1  20211116   \n",
       "248301  M014154595  21121209C015324520   C01  C010087        2  20211212   \n",
       "248302  M510878172  21112719C013369102   C01  C010007        2  20211127   \n",
       "248303  M761634870  21122419C013829696   C01  C010014        2  20211224   \n",
       "\n",
       "        de_hr   buy_am  \n",
       "0          10  15000.0  \n",
       "1          10  79700.0  \n",
       "2          10  19000.0  \n",
       "3          10  19000.0  \n",
       "4          10  19000.0  \n",
       "...       ...      ...  \n",
       "248299     14   2000.0  \n",
       "248300     19  26900.0  \n",
       "248301      9   2000.0  \n",
       "248302     19   6000.0  \n",
       "248303     19  28000.0  \n",
       "\n",
       "[4630047 rows x 8 columns]"
      ]
     },
     "execution_count": 4,
     "metadata": {},
     "output_type": "execute_result"
    }
   ],
   "source": [
    "prod_buy = prod_buy[['cust', 'rct_no', 'cop_c', 'br_c', 'chnl_dv', 'de_dt', 'de_hr', 'buy_am']]\n",
    "service_use = service_use[['cust', 'rct_no', 'cop_c', 'br_c', 'chnl_dv', 'de_dt', 'de_hr', 'buy_am']]\n",
    "\n",
    "all_df = pd.concat([prod_buy , service_use ] , axis = 0) ; all_df"
   ]
  },
  {
   "cell_type": "code",
   "execution_count": 5,
   "id": "41fa8954",
   "metadata": {},
   "outputs": [],
   "source": [
    "all_df['de_dt'] = pd.to_datetime(all_df['de_dt'].astype('str'))\n",
    "\n",
    "# 최종 구매일 다음날을 기준으로 계산 \n",
    "now = all_df.de_dt.max()+pd.DateOffset(days=1)\n",
    "\n",
    "# method chaining (multi-line)\n",
    "recency = (all_df.groupby('cust')['de_dt']\n",
    "           .agg(lambda x,y: (y - x).min().days, now).reset_index()\n",
    "           .rename(columns={'de_dt':'recency'}))"
   ]
  },
  {
   "cell_type": "code",
   "execution_count": 6,
   "id": "d69fd679",
   "metadata": {},
   "outputs": [
    {
     "data": {
      "image/png": "[encoded data removed]",
      "text/plain": [
       "<Figure size 360x360 with 1 Axes>"
      ]
     },
     "metadata": {
      "needs_background": "light"
     },
     "output_type": "display_data"
    }
   ],
   "source": [
    "plt.figure(figsize=(5,5))\n",
    "recency.recency.plot.hist(bins=50)\n",
    "plt.show()"
   ]
  },
  {
   "cell_type": "code",
   "execution_count": 7,
   "id": "e3fb0f48",
   "metadata": {},
   "outputs": [
    {
     "data": {
      "image/png": "[encoded data removed]",
      "text/plain": [
       "<Figure size 360x360 with 1 Axes>"
      ]
     },
     "metadata": {
      "needs_background": "light"
     },
     "output_type": "display_data"
    }
   ],
   "source": [
    "frequency =  all_df.groupby('cust')['rct_no'].agg([('frequency', Series.nunique)]).reset_index()\n",
    "\n",
    "plt.figure(figsize=(5,5))\n",
    "frequency.frequency.plot.hist(bins=50, title='histogram of frequency')\n",
    "plt.show()"
   ]
  },
  {
   "cell_type": "code",
   "execution_count": 8,
   "id": "21b2d6d8",
   "metadata": {},
   "outputs": [
    {
     "data": {
      "image/png": "[encoded data removed]",
      "text/plain": [
       "<Figure size 432x288 with 1 Axes>"
      ]
     },
     "metadata": {
      "needs_background": "light"
     },
     "output_type": "display_data"
    }
   ],
   "source": [
    "monetary = all_df.groupby('cust')['buy_am'].agg([('monetary', np.sum)]).reset_index()\n",
    "IQR = monetary['monetary'].quantile(0.75) - monetary['monetary'].quantile(0.25)\n",
    "line_down = monetary['monetary'].quantile(0.75) - IQR*1.5\n",
    "line_up = monetary['monetary'].quantile(0.75) + IQR*1.5\n",
    "\n",
    "monetary['monetary'] = monetary['monetary'].clip(line_down, line_up )\n",
    "\n",
    "monetary.monetary.plot.hist(bins=50)\n",
    "plt.show()"
   ]
  },
  {
   "cell_type": "code",
   "execution_count": 9,
   "id": "9fac83db",
   "metadata": {},
   "outputs": [
    {
     "data": {
      "text/plain": [
       "<AxesSubplot:xlabel='RFMgroup', ylabel='count'>"
      ]
     },
     "execution_count": 9,
     "metadata": {},
     "output_type": "execute_result"
    },
    {
     "data": {
      "image/png": "[encoded data removed]",
      "text/plain": [
       "<Figure size 432x288 with 1 Axes>"
      ]
     },
     "metadata": {
      "needs_background": "light"
     },
     "output_type": "display_data"
    }
   ],
   "source": [
    "rfm = recency.merge(frequency).merge(monetary)\n",
    "rfm['R'] = pd.qcut(rfm['recency'], q=5, labels=range(5,0,-1)).astype(int)\n",
    "rfm['F'] = pd.qcut(rfm['frequency'], q=5, labels=range(1,6)).astype(int)\n",
    "rfm['M'] = pd.qcut(rfm['monetary'], q=5, labels=range(1,6)).astype(int)\n",
    "rfm['RFMgroup'] = (rfm['R']+ rfm['F']+ rfm['M'])\n",
    "rfm['RFMgroup'] = pd.qcut(rfm['RFMgroup'], q=5, labels=range(1,6)).astype(int)\n",
    "sns.countplot( x = 'RFMgroup' , data = rfm ) "
   ]
  },
  {
   "cell_type": "code",
   "execution_count": 10,
   "id": "c27bceae",
   "metadata": {},
   "outputs": [
    {
     "data": {
      "text/html": [
       "<div>\n",
       "<style scoped>\n",
       "    .dataframe tbody tr th:only-of-type {\n",
       "        vertical-align: middle;\n",
       "    }\n",
       "\n",
       "    .dataframe tbody tr th {\n",
       "        vertical-align: top;\n",
       "    }\n",
       "\n",
       "    .dataframe thead th {\n",
       "        text-align: right;\n",
       "    }\n",
       "</style>\n",
       "<table border=\"1\" class=\"dataframe\">\n",
       "  <thead>\n",
       "    <tr style=\"text-align: right;\">\n",
       "      <th></th>\n",
       "      <th>cust</th>\n",
       "      <th>rct_no</th>\n",
       "      <th>cop_c</th>\n",
       "      <th>br_c</th>\n",
       "      <th>chnl_dv</th>\n",
       "      <th>de_dt</th>\n",
       "      <th>de_hr</th>\n",
       "      <th>buy_am</th>\n",
       "      <th>RFMgroup</th>\n",
       "    </tr>\n",
       "  </thead>\n",
       "  <tbody>\n",
       "    <tr>\n",
       "      <th>0</th>\n",
       "      <td>M430112881</td>\n",
       "      <td>A01000001113</td>\n",
       "      <td>A01</td>\n",
       "      <td>A010039</td>\n",
       "      <td>1</td>\n",
       "      <td>2021-01-01</td>\n",
       "      <td>10</td>\n",
       "      <td>15000.0</td>\n",
       "      <td>5</td>\n",
       "    </tr>\n",
       "    <tr>\n",
       "      <th>1</th>\n",
       "      <td>M430112881</td>\n",
       "      <td>A01000003148</td>\n",
       "      <td>A01</td>\n",
       "      <td>A010039</td>\n",
       "      <td>1</td>\n",
       "      <td>2021-01-01</td>\n",
       "      <td>10</td>\n",
       "      <td>19000.0</td>\n",
       "      <td>5</td>\n",
       "    </tr>\n",
       "    <tr>\n",
       "      <th>2</th>\n",
       "      <td>M430112881</td>\n",
       "      <td>A01000003148</td>\n",
       "      <td>A01</td>\n",
       "      <td>A010039</td>\n",
       "      <td>1</td>\n",
       "      <td>2021-01-01</td>\n",
       "      <td>10</td>\n",
       "      <td>19000.0</td>\n",
       "      <td>5</td>\n",
       "    </tr>\n",
       "    <tr>\n",
       "      <th>3</th>\n",
       "      <td>M430112881</td>\n",
       "      <td>A01000004946</td>\n",
       "      <td>A01</td>\n",
       "      <td>A010039</td>\n",
       "      <td>1</td>\n",
       "      <td>2021-01-01</td>\n",
       "      <td>10</td>\n",
       "      <td>19000.0</td>\n",
       "      <td>5</td>\n",
       "    </tr>\n",
       "    <tr>\n",
       "      <th>4</th>\n",
       "      <td>M430112881</td>\n",
       "      <td>A01000005297</td>\n",
       "      <td>A01</td>\n",
       "      <td>A010039</td>\n",
       "      <td>1</td>\n",
       "      <td>2021-01-01</td>\n",
       "      <td>10</td>\n",
       "      <td>9900.0</td>\n",
       "      <td>5</td>\n",
       "    </tr>\n",
       "    <tr>\n",
       "      <th>...</th>\n",
       "      <td>...</td>\n",
       "      <td>...</td>\n",
       "      <td>...</td>\n",
       "      <td>...</td>\n",
       "      <td>...</td>\n",
       "      <td>...</td>\n",
       "      <td>...</td>\n",
       "      <td>...</td>\n",
       "      <td>...</td>\n",
       "    </tr>\n",
       "    <tr>\n",
       "      <th>4630042</th>\n",
       "      <td>M461320805</td>\n",
       "      <td>21081215C012742314</td>\n",
       "      <td>C01</td>\n",
       "      <td>C010120</td>\n",
       "      <td>2</td>\n",
       "      <td>2021-08-12</td>\n",
       "      <td>15</td>\n",
       "      <td>42000.0</td>\n",
       "      <td>1</td>\n",
       "    </tr>\n",
       "    <tr>\n",
       "      <th>4630043</th>\n",
       "      <td>M094511286</td>\n",
       "      <td>21112413D014417246</td>\n",
       "      <td>D01</td>\n",
       "      <td>D010528</td>\n",
       "      <td>1</td>\n",
       "      <td>2021-11-24</td>\n",
       "      <td>13</td>\n",
       "      <td>14120.0</td>\n",
       "      <td>1</td>\n",
       "    </tr>\n",
       "    <tr>\n",
       "      <th>4630044</th>\n",
       "      <td>M736929241</td>\n",
       "      <td>21091422C014625802</td>\n",
       "      <td>C01</td>\n",
       "      <td>C010011</td>\n",
       "      <td>2</td>\n",
       "      <td>2021-09-14</td>\n",
       "      <td>22</td>\n",
       "      <td>26000.0</td>\n",
       "      <td>1</td>\n",
       "    </tr>\n",
       "    <tr>\n",
       "      <th>4630045</th>\n",
       "      <td>M040608978</td>\n",
       "      <td>21102916C024520111</td>\n",
       "      <td>C02</td>\n",
       "      <td>C020002</td>\n",
       "      <td>1</td>\n",
       "      <td>2021-10-29</td>\n",
       "      <td>16</td>\n",
       "      <td>27500.0</td>\n",
       "      <td>1</td>\n",
       "    </tr>\n",
       "    <tr>\n",
       "      <th>4630046</th>\n",
       "      <td>M761634870</td>\n",
       "      <td>21122419C013829696</td>\n",
       "      <td>C01</td>\n",
       "      <td>C010014</td>\n",
       "      <td>2</td>\n",
       "      <td>2021-12-24</td>\n",
       "      <td>19</td>\n",
       "      <td>28000.0</td>\n",
       "      <td>2</td>\n",
       "    </tr>\n",
       "  </tbody>\n",
       "</table>\n",
       "<p>4630047 rows × 9 columns</p>\n",
       "</div>"
      ],
      "text/plain": [
       "               cust              rct_no cop_c     br_c  chnl_dv      de_dt  \\\n",
       "0        M430112881        A01000001113   A01  A010039        1 2021-01-01   \n",
       "1        M430112881        A01000003148   A01  A010039        1 2021-01-01   \n",
       "2        M430112881        A01000003148   A01  A010039        1 2021-01-01   \n",
       "3        M430112881        A01000004946   A01  A010039        1 2021-01-01   \n",
       "4        M430112881        A01000005297   A01  A010039        1 2021-01-01   \n",
       "...             ...                 ...   ...      ...      ...        ...   \n",
       "4630042  M461320805  21081215C012742314   C01  C010120        2 2021-08-12   \n",
       "4630043  M094511286  21112413D014417246   D01  D010528        1 2021-11-24   \n",
       "4630044  M736929241  21091422C014625802   C01  C010011        2 2021-09-14   \n",
       "4630045  M040608978  21102916C024520111   C02  C020002        1 2021-10-29   \n",
       "4630046  M761634870  21122419C013829696   C01  C010014        2 2021-12-24   \n",
       "\n",
       "         de_hr   buy_am  RFMgroup  \n",
       "0           10  15000.0         5  \n",
       "1           10  19000.0         5  \n",
       "2           10  19000.0         5  \n",
       "3           10  19000.0         5  \n",
       "4           10   9900.0         5  \n",
       "...        ...      ...       ...  \n",
       "4630042     15  42000.0         1  \n",
       "4630043     13  14120.0         1  \n",
       "4630044     22  26000.0         1  \n",
       "4630045     16  27500.0         1  \n",
       "4630046     19  28000.0         2  \n",
       "\n",
       "[4630047 rows x 9 columns]"
      ]
     },
     "execution_count": 10,
     "metadata": {},
     "output_type": "execute_result"
    }
   ],
   "source": [
    "rfm = rfm[['cust' , 'RFMgroup']]\n",
    "all_df = all_df.merge(rfm) ; all_df"
   ]
  },
  {
   "cell_type": "code",
   "execution_count": 11,
   "id": "04c146a5",
   "metadata": {},
   "outputs": [
    {
     "data": {
      "image/png": "[encoded data removed]",
      "text/plain": [
       "<Figure size 432x288 with 1 Axes>"
      ]
     },
     "metadata": {
      "needs_background": "light"
     },
     "output_type": "display_data"
    }
   ],
   "source": [
    "buy_am = []\n",
    "for i in range(1,6) : \n",
    "    cust_uni = all_df.query('RFMgroup == @i ')['cust'].unique()\n",
    "    cust_buy_am = lpay.query('cust in @cust_uni').groupby('cust')['buy_am'].sum().reset_index()\n",
    "    IQR = cust_buy_am['buy_am'].quantile(0.75) - cust_buy_am['buy_am'].quantile(0.25)\n",
    "    line_down = cust_buy_am['buy_am'].quantile(0.75) - IQR*1.5\n",
    "    line_up = cust_buy_am['buy_am'].quantile(0.75) + IQR*1.5\n",
    "    cust_buy_am['buy_am'] = cust_buy_am['buy_am'].clip(line_down, line_up )\n",
    "    buy_am.append( cust_buy_am['buy_am'].mean())\n",
    "\n",
    "    \n",
    "colors = cm.get_cmap('coolwarm')(np.arange(5)) \n",
    "x = np.arange(5)\n",
    "plt.bar(x, buy_am , color = colors)\n",
    "plt.xticks(x, [ 'Group'+str(i) for i in range(1,6)])\n",
    "\n",
    "plt.show()"
   ]
  },
  {
   "cell_type": "code",
   "execution_count": 12,
   "id": "2fdb4bd6",
   "metadata": {},
   "outputs": [
    {
     "data": {
      "image/png": "[encoded data removed]",
      "text/plain": [
       "<Figure size 432x288 with 1 Axes>"
      ]
     },
     "metadata": {
      "needs_background": "light"
     },
     "output_type": "display_data"
    }
   ],
   "source": [
    "buy_count = []\n",
    "for i in range(1,6) : \n",
    "    cust_uni = all_df.query('RFMgroup == @i ')['cust'].unique()\n",
    "    mean_buy_am = lpay.query('cust in @cust_uni').groupby('cust')['buy_am'].count().reset_index()\n",
    "    buy_count.append( mean_buy_am['buy_am'].mean())\n",
    "\n",
    "colors = cm.get_cmap('coolwarm')(np.arange(5)) \n",
    "x = np.arange(5)\n",
    "plt.bar(x, buy_count , color = colors )\n",
    "plt.xticks(x, [ 'Group'+str(i) for i in range(1,6)])\n",
    "\n",
    "plt.show()"
   ]
  }
 ],
 "metadata": {
  "kernelspec": {
   "display_name": "Python 3 (ipykernel)",
   "language": "python",
   "name": "python3"
  },
  "language_info": {
   "codemirror_mode": {
    "name": "ipython",
    "version": 3
   },
   "file_extension": ".py",
   "mimetype": "text/x-python",
   "name": "python",
   "nbconvert_exporter": "python",
   "pygments_lexer": "ipython3",
   "version": "3.9.12"
  }
 },
 "nbformat": 4,
 "nbformat_minor": 5
}
