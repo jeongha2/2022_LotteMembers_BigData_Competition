{
 "cells": [
  {
   "cell_type": "markdown",
   "id": "93305d1b",
   "metadata": {},
   "source": [
    "### cust_demo\n",
    "- cust: 고객 번호\n",
    "- ma_fem_dv: 성별\n",
    "- ages: 연령대(10대 단위 범주)\n",
    "- zon_hlv: 지역 대분류 코드\n",
    "\n",
    "### prod_buy\n",
    "- cust: 고객 번호\n",
    "- rct_no: 영수증 번호\n",
    "- chnl_dv: 온라인/오프라인(1/2) 구분\n",
    "- cop_c: 제휴사 구분(유통사)\n",
    "- pd_c: 상품 코드\n",
    "- br_c: 점포 코드\n",
    "- de_dt: 구매 일자\n",
    "- de_hr: 구매 시간\n",
    "- buy_am: 구매 금액\n",
    "- buy_ct: 구매 수량\n",
    "\n",
    "### service_use\n",
    "- cust: 고객 번호\n",
    "- rct_no: 영수증 번호\n",
    "- cop_c: 제휴사 분류(업종 분류)\n",
    "- br_c: 점포 구분\n",
    "- de_dt: 이용 일자\n",
    "- vst_dt: 방문 일자\n",
    "- de_hr: 이용 시간\n",
    "- buy_am: 이용 금액\n",
    "\n",
    "### prod_cat\n",
    "- pd_c: 상품코드\n",
    "- pd_nm: 상품 소분류\n",
    "- clac_hlv_nm: 상품 중분류\n",
    "- clac_mcls_nm: 상품 대분류\n",
    "\n",
    "### partner\n",
    "- br_c: 점포 코드\n",
    "- zon_hlv: 지역 중분류\n",
    "- zon_mcls: 지역 대분류\n",
    "\n",
    "### lpay\n",
    "- cust: 고객 번호\n",
    "- cop_c: 제휴사\n",
    "- rct_no: 영수증 번호\n",
    "- de_dt: 이용 일자\n",
    "- de_hr: 이용 시간\n",
    "- buy_am: 이용 금액"
   ]
  }
 ],
 "metadata": {
  "kernelspec": {
   "display_name": "Python 3 (ipykernel)",
   "language": "python",
   "name": "python3"
  },
  "language_info": {
   "codemirror_mode": {
    "name": "ipython",
    "version": 3
   },
   "file_extension": ".py",
   "mimetype": "text/x-python",
   "name": "python",
   "nbconvert_exporter": "python",
   "pygments_lexer": "ipython3",
   "version": "3.9.7"
  }
 },
 "nbformat": 4,
 "nbformat_minor": 5
}
