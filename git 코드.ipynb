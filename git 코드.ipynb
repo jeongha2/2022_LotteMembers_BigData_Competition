{
 "cells": [
  {
   "cell_type": "markdown",
   "id": "32817511",
   "metadata": {},
   "source": [
    "#### clone"
   ]
  },
  {
   "cell_type": "code",
   "execution_count": null,
   "id": "835d00ac",
   "metadata": {},
   "outputs": [],
   "source": [
    "!git clone https://github.com/rnjsdb72/lpoint_competition.git"
   ]
  },
  {
   "cell_type": "markdown",
   "id": "ac277914",
   "metadata": {},
   "source": [
    "#### 브랜치 생성 및 이동"
   ]
  },
  {
   "cell_type": "code",
   "execution_count": null,
   "id": "6f48ac77",
   "metadata": {},
   "outputs": [],
   "source": [
    "!git branch 브랜치명"
   ]
  },
  {
   "cell_type": "code",
   "execution_count": null,
   "id": "5240fe06",
   "metadata": {},
   "outputs": [],
   "source": [
    "!git checkout 브랜치명"
   ]
  },
  {
   "cell_type": "markdown",
   "id": "d7925ae5",
   "metadata": {},
   "source": [
    "#### push"
   ]
  },
  {
   "cell_type": "code",
   "execution_count": null,
   "id": "f6897555",
   "metadata": {},
   "outputs": [],
   "source": [
    "!git add 파일명(들)"
   ]
  },
  {
   "cell_type": "code",
   "execution_count": null,
   "id": "ac5369c9",
   "metadata": {},
   "outputs": [],
   "source": [
    "!git commit -m \"메세지\""
   ]
  },
  {
   "cell_type": "code",
   "execution_count": null,
   "id": "38bffd5a",
   "metadata": {},
   "outputs": [],
   "source": [
    "!git push origin 브랜치명"
   ]
  },
  {
   "cell_type": "markdown",
   "id": "028aa2fb",
   "metadata": {},
   "source": [
    "#### pull"
   ]
  },
  {
   "cell_type": "code",
   "execution_count": null,
   "id": "ee178390",
   "metadata": {},
   "outputs": [],
   "source": [
    "!git pull origin"
   ]
  },
  {
   "cell_type": "code",
   "execution_count": null,
   "id": "bc58a0c8",
   "metadata": {},
   "outputs": [],
   "source": []
  }
 ],
 "metadata": {
  "kernelspec": {
   "display_name": "Python 3 (ipykernel)",
   "language": "python",
   "name": "python3"
  },
  "language_info": {
   "codemirror_mode": {
    "name": "ipython",
    "version": 3
   },
   "file_extension": ".py",
   "mimetype": "text/x-python",
   "name": "python",
   "nbconvert_exporter": "python",
   "pygments_lexer": "ipython3",
   "version": "3.9.7"
  }
 },
 "nbformat": 4,
 "nbformat_minor": 5
}
